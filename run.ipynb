%run file_name.py
